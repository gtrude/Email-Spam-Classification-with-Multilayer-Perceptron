{
  "nbformat": 4,
  "nbformat_minor": 0,
  "metadata": {
    "colab": {
      "provenance": []
    },
    "kernelspec": {
      "name": "python3",
      "display_name": "Python 3"
    },
    "language_info": {
      "name": "python"
    }
  },
  "cells": [
    {
      "cell_type": "code",
      "execution_count": null,
      "metadata": {
        "colab": {
          "base_uri": "https://localhost:8080/"
        },
        "id": "YHf43wn5o4bT",
        "outputId": "dc21c850-a58d-446a-d38d-6e397f263a5a"
      },
      "outputs": [
        {
          "output_type": "stream",
          "name": "stdout",
          "text": [
            "Looking in indexes: https://pypi.org/simple, https://us-python.pkg.dev/colab-wheels/public/simple/\n",
            "Collecting pyspark\n",
            "  Downloading pyspark-3.4.0.tar.gz (310.8 MB)\n",
            "\u001b[2K     \u001b[90m━━━━━━━━━━━━━━━━━━━━━━━━━━━━━━━━━━━━━━━\u001b[0m \u001b[32m310.8/310.8 MB\u001b[0m \u001b[31m4.1 MB/s\u001b[0m eta \u001b[36m0:00:00\u001b[0m\n",
            "\u001b[?25h  Preparing metadata (setup.py) ... \u001b[?25l\u001b[?25hdone\n",
            "Requirement already satisfied: py4j==0.10.9.7 in /usr/local/lib/python3.10/dist-packages (from pyspark) (0.10.9.7)\n",
            "Building wheels for collected packages: pyspark\n",
            "  Building wheel for pyspark (setup.py) ... \u001b[?25l\u001b[?25hdone\n",
            "  Created wheel for pyspark: filename=pyspark-3.4.0-py2.py3-none-any.whl size=311317130 sha256=9b395a443e9825a53562fe6b7446ac6022249d4d90fcfad431068577d1221f46\n",
            "  Stored in directory: /root/.cache/pip/wheels/7b/1b/4b/3363a1d04368e7ff0d408e57ff57966fcdf00583774e761327\n",
            "Successfully built pyspark\n",
            "Installing collected packages: pyspark\n",
            "Successfully installed pyspark-3.4.0\n"
          ]
        }
      ],
      "source": [
        "!pip install pyspark"
      ]
    },
    {
      "cell_type": "code",
      "source": [
        "from pyspark.ml.linalg import Vectors\n",
        "from pyspark.sql import SparkSession\n",
        "from pyspark.ml import Pipeline\n",
        "from pyspark.ml.feature import VectorAssembler\n",
        "from pyspark.ml.classification import LogisticRegression\n",
        "from sklearn.metrics import accuracy_score\n",
        "\n",
        "spark = SparkSession.builder.appName('emailspam').getOrCreate()\n",
        "df = spark.read.csv('emails.csv', header = True, inferSchema = True)\n",
        "df.printSchema()\n",
        "\n",
        "# initialization source is the lab (3 - Mobile Price Prediction Solution (Assignment solution))"
      ],
      "metadata": {
        "colab": {
          "base_uri": "https://localhost:8080/"
        },
        "id": "I1PhgjOMrrPP",
        "outputId": "916ee213-ff41-439f-eaf5-60dc5bc17671"
      },
      "execution_count": null,
      "outputs": [
        {
          "output_type": "stream",
          "name": "stdout",
          "text": [
            "root\n",
            " |-- Email No.: string (nullable = true)\n",
            " |-- the: integer (nullable = true)\n",
            " |-- to: integer (nullable = true)\n",
            " |-- for: integer (nullable = true)\n",
            " |-- a: integer (nullable = true)\n",
            " |-- you: integer (nullable = true)\n",
            " |-- hou: integer (nullable = true)\n",
            " |-- is: integer (nullable = true)\n",
            " |-- this: integer (nullable = true)\n",
            " |-- i: integer (nullable = true)\n",
            " |-- your: integer (nullable = true)\n",
            " |-- we: integer (nullable = true)\n",
            " |-- are: integer (nullable = true)\n",
            " |-- com: integer (nullable = true)\n",
            " |-- please: integer (nullable = true)\n",
            " |-- price: integer (nullable = true)\n",
            " |-- attached: integer (nullable = true)\n",
            " |-- th: integer (nullable = true)\n",
            " |-- forward: integer (nullable = true)\n",
            " |-- u: integer (nullable = true)\n",
            " |-- click: integer (nullable = true)\n",
            " |-- unsubscribe: integer (nullable = true)\n",
            " |-- pro: integer (nullable = true)\n",
            " |-- therefore: integer (nullable = true)\n",
            " |-- cc: integer (nullable = true)\n",
            " |-- prize: integer (nullable = true)\n",
            " |-- hi: integer (nullable = true)\n",
            " |-- deadline: integer (nullable = true)\n",
            " |-- ur: integer (nullable = true)\n",
            " |-- Spam: integer (nullable = true)\n",
            "\n"
          ]
        }
      ]
    },
    {
      "cell_type": "code",
      "source": [
        "from pyspark.sql.functions import *\n",
        "from pyspark.ml.feature import VectorAssembler, StringIndexer\n",
        "\n",
        "# here we have to take the input parameters which are the 28 columns containing words and their number of appearances in each mail, and label them under the umbrella of 'features'\n",
        "\n",
        "vectorAssembler = VectorAssembler(inputCols = ['the', 'to', 'for', 'a', 'you', 'hou', 'is',\n",
        "'this', 'i', 'your', 'we', 'are', 'com', 'please', 'price', 'attached', 'th', 'forward', 'u', 'click', 'unsubscribe',\n",
        "'pro', 'therefore', 'cc', 'prize', 'hi', 'deadline', 'ur'], outputCol = 'features')\n",
        "v_spam_df = vectorAssembler.transform(df)\n",
        "v_spam_df.show(5)"
      ],
      "metadata": {
        "colab": {
          "base_uri": "https://localhost:8080/"
        },
        "id": "aM-IlyBsuWvn",
        "outputId": "971a48b1-1243-40ee-f64a-db667b5ff033"
      },
      "execution_count": null,
      "outputs": [
        {
          "output_type": "stream",
          "name": "stdout",
          "text": [
            "+---------+---+---+---+---+---+---+---+----+---+----+---+---+---+------+-----+--------+---+-------+---+-----+-----------+---+---------+---+-----+---+--------+---+----+--------------------+\n",
            "|Email No.|the| to|for|  a|you|hou| is|this|  i|your| we|are|com|please|price|attached| th|forward|  u|click|unsubscribe|pro|therefore| cc|prize| hi|deadline| ur|Spam|            features|\n",
            "+---------+---+---+---+---+---+---+---+----+---+----+---+---+---+------+-----+--------+---+-------+---+-----+-----------+---+---------+---+-----+---+--------+---+----+--------------------+\n",
            "|  Email 1|  0|  0|  0|  2|  0|  0|  1|   0|  2|   0|  0|  0|  0|     0|    0|       0|  0|      0|  2|    0|          0|  0|        0|  0|    0|  0|       0|  1|   0|(28,[3,6,8,18,27]...|\n",
            "|  Email 2|  8| 13|  6|102|  1| 27| 13|   0| 61|   0|  9|  4|  3|     2|    0|       1| 15|      3| 53|    0|          0|  4|        0|  3|    0|  4|       0| 24|   0|[8.0,13.0,6.0,102...|\n",
            "|  Email 3|  0|  0|  0|  8|  0|  0|  0|   0|  8|   0|  0|  0|  0|     0|    0|       0|  0|      0|  1|    0|          0|  0|        0|  0|    0|  0|       0|  0|   0|(28,[3,8,18],[8.0...|\n",
            "|  Email 4|  0|  5|  5| 51|  2| 10|  9|   2| 16|   0|  1|  3|  0|     0|    0|       0|  4|      2| 28|    0|          0|  0|        0|  4|    0|  2|       0|  1|   0|(28,[1,2,3,4,5,6,...|\n",
            "|  Email 5|  7|  6|  5| 57|  0|  9|  2|   2| 30|   0|  0|  2|  0|     1|    0|       0| 12|      2| 26|    0|          0|  0|        1|  2|    0|  2|       0|  5|   0|(28,[0,1,2,3,5,6,...|\n",
            "+---------+---+---+---+---+---+---+---+----+---+----+---+---+---+------+-----+--------+---+-------+---+-----+-----------+---+---------+---+-----+---+--------+---+----+--------------------+\n",
            "only showing top 5 rows\n",
            "\n"
          ]
        }
      ]
    },
    {
      "cell_type": "code",
      "source": [
        "# the same thing is done here but labeling the output 'Spam' column as label (our y value)\n",
        "indexer = StringIndexer(inputCol = 'Spam', outputCol = 'label')\n",
        "i_v_spam_df = indexer.fit(v_spam_df).transform(v_spam_df)\n",
        "i_v_spam_df.show(5)"
      ],
      "metadata": {
        "colab": {
          "base_uri": "https://localhost:8080/"
        },
        "id": "ZTANiGQswO8n",
        "outputId": "e46586b0-4ca3-4eac-88ba-aece780d7959"
      },
      "execution_count": null,
      "outputs": [
        {
          "output_type": "stream",
          "name": "stdout",
          "text": [
            "+---------+---+---+---+---+---+---+---+----+---+----+---+---+---+------+-----+--------+---+-------+---+-----+-----------+---+---------+---+-----+---+--------+---+----+--------------------+-----+\n",
            "|Email No.|the| to|for|  a|you|hou| is|this|  i|your| we|are|com|please|price|attached| th|forward|  u|click|unsubscribe|pro|therefore| cc|prize| hi|deadline| ur|Spam|            features|label|\n",
            "+---------+---+---+---+---+---+---+---+----+---+----+---+---+---+------+-----+--------+---+-------+---+-----+-----------+---+---------+---+-----+---+--------+---+----+--------------------+-----+\n",
            "|  Email 1|  0|  0|  0|  2|  0|  0|  1|   0|  2|   0|  0|  0|  0|     0|    0|       0|  0|      0|  2|    0|          0|  0|        0|  0|    0|  0|       0|  1|   0|(28,[3,6,8,18,27]...|  0.0|\n",
            "|  Email 2|  8| 13|  6|102|  1| 27| 13|   0| 61|   0|  9|  4|  3|     2|    0|       1| 15|      3| 53|    0|          0|  4|        0|  3|    0|  4|       0| 24|   0|[8.0,13.0,6.0,102...|  0.0|\n",
            "|  Email 3|  0|  0|  0|  8|  0|  0|  0|   0|  8|   0|  0|  0|  0|     0|    0|       0|  0|      0|  1|    0|          0|  0|        0|  0|    0|  0|       0|  0|   0|(28,[3,8,18],[8.0...|  0.0|\n",
            "|  Email 4|  0|  5|  5| 51|  2| 10|  9|   2| 16|   0|  1|  3|  0|     0|    0|       0|  4|      2| 28|    0|          0|  0|        0|  4|    0|  2|       0|  1|   0|(28,[1,2,3,4,5,6,...|  0.0|\n",
            "|  Email 5|  7|  6|  5| 57|  0|  9|  2|   2| 30|   0|  0|  2|  0|     1|    0|       0| 12|      2| 26|    0|          0|  0|        1|  2|    0|  2|       0|  5|   0|(28,[0,1,2,3,5,6,...|  0.0|\n",
            "+---------+---+---+---+---+---+---+---+----+---+----+---+---+---+------+-----+--------+---+-------+---+-----+-----------+---+---------+---+-----+---+--------+---+----+--------------------+-----+\n",
            "only showing top 5 rows\n",
            "\n"
          ]
        }
      ]
    },
    {
      "cell_type": "code",
      "source": [
        "i_v_spam_df.select('Spam','label').groupBy('Spam','label').count().show()\n",
        "# just making sure this labeling system worked and that there are no stray values"
      ],
      "metadata": {
        "colab": {
          "base_uri": "https://localhost:8080/"
        },
        "id": "QsgQUOjJwphl",
        "outputId": "d1a8ac1b-e7b0-419b-977b-1e5efd33153a"
      },
      "execution_count": null,
      "outputs": [
        {
          "output_type": "stream",
          "name": "stdout",
          "text": [
            "+----+-----+-----+\n",
            "|Spam|label|count|\n",
            "+----+-----+-----+\n",
            "|   0|  0.0| 3672|\n",
            "|   1|  1.0| 1500|\n",
            "+----+-----+-----+\n",
            "\n"
          ]
        }
      ]
    },
    {
      "cell_type": "code",
      "source": [
        "splits = i_v_spam_df.randomSplit([0.8,0.2],1)\n",
        "train_df = splits[0]\n",
        "test_df = splits[1]\n",
        "train_df.count(), test_df.count(), i_v_spam_df.count()\n",
        "\n",
        "#classic 80(training)/20(testing) split"
      ],
      "metadata": {
        "colab": {
          "base_uri": "https://localhost:8080/"
        },
        "id": "oI0nNXC7w0bq",
        "outputId": "44dcbe48-94f3-4ba7-ab93-45b0fe5f3774"
      },
      "execution_count": null,
      "outputs": [
        {
          "output_type": "execute_result",
          "data": {
            "text/plain": [
              "(4111, 1061, 5172)"
            ]
          },
          "metadata": {},
          "execution_count": 26
        }
      ]
    },
    {
      "cell_type": "code",
      "source": [
        "from pyspark.ml.classification import MultilayerPerceptronClassifier\n",
        "from pyspark.ml.evaluation import MulticlassClassificationEvaluator\n",
        "layers = [28,14,4,2]\n",
        "#a = 28 because the other 2 columns contain the output column (spam) and the other is a simple index\n",
        "# b = 2 because it's either yes or no\n",
        "\n",
        "mlp = MultilayerPerceptronClassifier(layers = layers, seed = 1)\n",
        "mlp_model = mlp.fit(train_df)\n",
        "\n",
        "pred_df = mlp_model.transform(test_df)"
      ],
      "metadata": {
        "id": "AUStRPpcxa9y"
      },
      "execution_count": null,
      "outputs": []
    },
    {
      "cell_type": "code",
      "source": [
        "# I had to rename the column 'Email No.' to Email_ID' because the first nomenclature caused an error (AnalysisException: Syntax error in attribute name: Email No..)\n",
        "import pandas as pd\n",
        "\n",
        "pred_df = pred_df.withColumnRenamed(\"Email No.\", \"Email_ID\")\n",
        "\n",
        "pred_df.select('Email_ID','features','label','rawPrediction','probability','prediction').show(5)"
      ],
      "metadata": {
        "colab": {
          "base_uri": "https://localhost:8080/"
        },
        "id": "lfULK97ByJK2",
        "outputId": "8d475d14-89e0-47fb-dae8-137bdadc1ec2"
      },
      "execution_count": null,
      "outputs": [
        {
          "output_type": "stream",
          "name": "stdout",
          "text": [
            "+----------+--------------------+-----+--------------------+--------------------+----------+\n",
            "|  Email_ID|            features|label|       rawPrediction|         probability|prediction|\n",
            "+----------+--------------------+-----+--------------------+--------------------+----------+\n",
            "|Email 1001|[17.0,15.0,21.0,1...|  0.0|[3.51616301978869...|[0.99614472806413...|       0.0|\n",
            "| Email 101|(28,[0,1,2,3,5,6,...|  0.0|[3.61512673400691...|[0.99701229754307...|       0.0|\n",
            "|Email 1010|(28,[0,1,2,3,4,5,...|  0.0|[3.62441161842109...|[0.99705476583800...|       0.0|\n",
            "|Email 1011|(28,[0,1,2,3,4,5,...|  1.0|[-0.2322944321983...|[0.11937392408127...|       1.0|\n",
            "|Email 1013|(28,[0,1,2,3,4,6,...|  0.0|[3.02610833483281...|[0.99159801833770...|       0.0|\n",
            "+----------+--------------------+-----+--------------------+--------------------+----------+\n",
            "only showing top 5 rows\n",
            "\n"
          ]
        }
      ]
    },
    {
      "cell_type": "code",
      "source": [
        "evaluator = MulticlassClassificationEvaluator(labelCol = 'label', predictionCol = 'prediction', metricName = 'accuracy')\n",
        "mlpacc = evaluator.evaluate(pred_df)\n",
        "mlpacc\n",
        "# metric name is apparently case sensitive so it can't be written 'Accuracy' and has to be 'accuracy'"
      ],
      "metadata": {
        "colab": {
          "base_uri": "https://localhost:8080/"
        },
        "id": "bUeIMczXxoFy",
        "outputId": "292e4a69-88d7-4fb1-d57c-d675547e19bc"
      },
      "execution_count": null,
      "outputs": [
        {
          "output_type": "execute_result",
          "data": {
            "text/plain": [
              "0.8501413760603205"
            ]
          },
          "metadata": {},
          "execution_count": 32
        }
      ]
    },
    {
      "cell_type": "code",
      "source": [],
      "metadata": {
        "id": "zdn-2Vzey3hB"
      },
      "execution_count": null,
      "outputs": []
    }
  ]
}